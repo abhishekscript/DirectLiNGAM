{
 "cells": [
  {
   "cell_type": "code",
   "execution_count": 7,
   "metadata": {
    "autoscroll": "json-false",
    "collapsed": false,
    "ein.tags": [
     "worksheet-0"
    ]
   },
   "outputs": [],
   "source": [
    "import numpy as np\n",
    "import scipy as sp\n",
    "from scipy import linalg\n",
    "import multiprocessing as mp\n",
    "import functools"
   ]
  },
  {
   "cell_type": "code",
   "execution_count": 8,
   "metadata": {
    "autoscroll": "json-false",
    "collapsed": false,
    "ein.tags": [
     "worksheet-0"
    ]
   },
   "outputs": [],
   "source": [
    "def generate_bernoulli_random_variable(probability):\n",
    "    \"\"\"乱数をベルヌーイ分布に従って発生する\n",
    "    Args:\n",
    "        probability: 成功確率\n",
    "    Returns:\n",
    "        0 or 1\n",
    "    \"\"\"\n",
    "    return np.random.binomial(1, probability)"
   ]
  },
  {
   "cell_type": "code",
   "execution_count": 9,
   "metadata": {
    "autoscroll": "json-false",
    "collapsed": false,
    "ein.tags": [
     "worksheet-0"
    ]
   },
   "outputs": [],
   "source": [
    "def generate_adjacent_value():\n",
    "    \"\"\"隣接行列の要素の値を生成する\n",
    "    generate_adjacency_matrix() から呼ばれる\n",
    "    論文の通り [-1.5, -0.5] か [0.5, 1.5] の値を生成する\n",
    "    Returns:\n",
    "        -1.5 ~ 0.5 か 0.5 ~ 1.5 の間の Float\n",
    "    \"\"\"\n",
    "    signes = [1, -1]\n",
    "    sign = np.random.choice(signes)\n",
    "    return sign * (np.random.rand() + 0.5)"
   ]
  },
  {
   "cell_type": "code",
   "execution_count": 10,
   "metadata": {
    "autoscroll": "json-false",
    "collapsed": false,
    "ein.tags": [
     "worksheet-0"
    ]
   },
   "outputs": [],
   "source": [
    "def generate_adjacency_matrix(shape):\n",
    "    \"\"\"下三角隣接行列を生成する\n",
    "    Args:\n",
    "        shape: 行列の形をタプルで受け取る。(3,4) なら 3 x 4 の行列を生成する\n",
    "    Returns:\n",
    "        下三角隣接行列\n",
    "    \"\"\"\n",
    "    s = np.random.rand()\n",
    "    B = np.zeros(shape)\n",
    "    for i in range(shape[0]):\n",
    "        for j in range(shape[1]):\n",
    "            if i > j:\n",
    "                if generate_bernoulli_random_variable(s) != 0:\n",
    "                    B[i][j] = generate_adjacent_value()\n",
    "    return B"
   ]
  },
  {
   "cell_type": "code",
   "execution_count": 11,
   "metadata": {
    "autoscroll": "json-false",
    "collapsed": false,
    "ein.tags": [
     "worksheet-0"
    ]
   },
   "outputs": [],
   "source": [
    "def generate_laplace_disturbance(size):\n",
    "    \"\"\"ラプラス分布に従うノイズ項を発生させる関数のファクトリ\n",
    "    Returns:\n",
    "        ラブラス分布に従うノイズ項の発生値\n",
    "    \"\"\"\n",
    "    loc = 0\n",
    "    scale = np.random.rand() * 2 + 1\n",
    "    return np.random.laplace(loc, scale, size)"
   ]
  },
  {
   "cell_type": "code",
   "execution_count": 12,
   "metadata": {
    "autoscroll": "json-false",
    "collapsed": false,
    "ein.tags": [
     "worksheet-0"
    ]
   },
   "outputs": [],
   "source": [
    "def generate_observed_data(B, e):\n",
    "    \"\"\"観測データを生成する\n",
    "    Args:\n",
    "        B: 隣接行列\n",
    "        e: ノイズ項\n",
    "    Returns:\n",
    "        観測データを返す\n",
    "    \"\"\"\n",
    "    X = np.zeros((p, n))\n",
    "    X = e.copy()\n",
    "    for i in range(B.shape[0]):\n",
    "        for j in range(B.shape[1]):\n",
    "            if B[i][j] != 0:\n",
    "                X[i] += X[j]*B[i][j]\n",
    "    return X            "
   ]
  },
  {
   "cell_type": "code",
   "execution_count": 13,
   "metadata": {
    "autoscroll": "json-false",
    "collapsed": false,
    "ein.tags": [
     "worksheet-0"
    ]
   },
   "outputs": [],
   "source": [
    "def permuteta_order(X):\n",
    "    \"\"\"観測データの順番を入れ替える\n",
    "    Args:\n",
    "        X: 観測データ\n",
    "    Returns:\n",
    "        並び替えた観測データ\n",
    "    \"\"\"\n",
    "    X = X.copy()\n",
    "    order = list(range(len(X)))\n",
    "    for i in range(len(X)):\n",
    "        a = np.random.randint(0, len(X) - 1)\n",
    "        b = np.random.randint(0, len(X) - 1)\n",
    "        tmp = X[a].copy()\n",
    "        X[a] = X[b]\n",
    "        X[b] = tmp\n",
    "        tmp = order[a]\n",
    "        order[a] = order[b]\n",
    "        order[b] = tmp\n",
    "    return (X, order)"
   ]
  },
  {
   "cell_type": "code",
   "execution_count": 14,
   "metadata": {
    "autoscroll": "json-false",
    "collapsed": false,
    "ein.tags": [
     "worksheet-0"
    ]
   },
   "outputs": [],
   "source": [
    "def generate_gaussian_kernel(sigma):\n",
    "    \"\"\"ガウシアンカーネル生成する\n",
    "    引数の分散を元にガウシアンカーネル関数を生成する\n",
    "    カーネル関数は引数に値がペアで格納されたタプルを受け取りカーネル値を算出し返す\n",
    "    Args:\n",
    "        sigma: ガウシアン分布の分散\n",
    "    Returns:\n",
    "        ガウシアンカーネル関数        \n",
    "    \"\"\"\n",
    "    return lambda x_i, x_j: np.exp((-1 / (2 * sigma)) * (x_i - x_j)**2)"
   ]
  },
  {
   "cell_type": "code",
   "execution_count": 15,
   "metadata": {
    "autoscroll": "json-false",
    "collapsed": false,
    "ein.tags": [
     "worksheet-0"
    ]
   },
   "outputs": [],
   "source": [
    "def generate_gram_matrix(x, kernel_function):\n",
    "    \"\"\"グラム行列を生成する\n",
    "    Args:\n",
    "        x: 一次元配列\n",
    "        kernel_function: カーネル関数\n",
    "    Returns:\n",
    "        x のサイズ n とすると、 n x n の グラム行列\n",
    "    \"\"\"\n",
    "    return np.array([[kernel_function(xi, xj) for xj in x] for xi in x])    "
   ]
  },
  {
   "cell_type": "code",
   "execution_count": 16,
   "metadata": {
    "autoscroll": "json-false",
    "collapsed": false,
    "ein.tags": [
     "worksheet-0"
    ]
   },
   "outputs": [],
   "source": [
    "def calc_MI_kernel_value(K_1, K_2, kappa=2*10**(-2)):\n",
    "    \"\"\"カーネル法を利用して相互情報量を計算する\n",
    "    Args:\n",
    "        K_1: 第一グラム行列\n",
    "        K_2: 第二グラム行列\n",
    "        kappa: 小さい正の値 論文では 2*10^(-2) だった\n",
    "    Returns:\n",
    "        相互情報量\n",
    "    \"\"\"\n",
    "    n = len(K_1)\n",
    "    numer_11 = (K_1 + ((n*kappa)/2)*np.eye(n, n))\n",
    "    numer_11 = numer_11.dot(numer_11)\n",
    "    numer_12 = K_1.dot(K_2)\n",
    "    numer_21 = K_2.dot(K_1)\n",
    "    numer_22 = (K_2 + ((n*kappa)/2)*np.eye(n, n))\n",
    "    numer_22 = numer_22.dot(numer_22)\n",
    "    numer = np.array([[numer_11, numer_12], [numer_21, numer_22]])\n",
    "    denom_11 = numer_11.copy()\n",
    "    denom_12 = np.zeros((n, n))\n",
    "    denom_21 = np.zeros((n, n))\n",
    "    denom_22 = numer_22.copy()\n",
    "    denom = np.array([[denom_11, denom_12], [denom_21, denom_22]])\n",
    "    # -1/2*log(det(numer)/det(denom))\n",
    "    # \"\"行列の行列\"の行列式？\n",
    "    # なにかしらのスカラー値が返るはずのでとりあえず乱数返す\n",
    "    return np.random.randint(100)"
   ]
  },
  {
   "cell_type": "code",
   "execution_count": 17,
   "metadata": {
    "autoscroll": "json-false",
    "collapsed": false,
    "ein.tags": [
     "worksheet-0"
    ]
   },
   "outputs": [],
   "source": [
    "def calc_residual(x_j, x_i):\n",
    "    \"\"\"残差を計算する\n",
    "    Args:\n",
    "        x_j: 一次元配列 x_i の成分を取り除きたい\n",
    "        x_i: 一次元配列 この成分を x_j から取り除きたい\n",
    "    Returns:\n",
    "        x_j から x_i の成分を取り除いた一次元配列\n",
    "    \"\"\"\n",
    "    return x_j- (calc_causal_effect(x_j, x_i) * x_j)"
   ]
  },
  {
   "cell_type": "code",
   "execution_count": 18,
   "metadata": {
    "autoscroll": "json-false",
    "collapsed": false,
    "ein.tags": [
     "worksheet-0"
    ]
   },
   "outputs": [],
   "source": [
    "def calc_causal_effect(x_j, x_i):\n",
    "    \"\"\"x_j から x_i へどれくらい影響を及ぼしすのか計算する\n",
    "    Args:\n",
    "        x_j: 一次元配列\n",
    "        x_i: 一次元配列\n",
    "    Returns:\n",
    "        x_j から x_i への影響値\n",
    "    \"\"\"\n",
    "    return np.cov(x_j, x_i, bias=1)[0][1] / np.var(x_j)"
   ]
  },
  {
   "cell_type": "code",
   "execution_count": 19,
   "metadata": {
    "autoscroll": "json-false",
    "collapsed": false,
    "ein.tags": [
     "worksheet-0"
    ]
   },
   "outputs": [],
   "source": [
    "def calc_T_kernel_value(X, j):\n",
    "    \"\"\"j 以外の 添字 i について X[i] と残差の相互情報量をの総和を計算する\n",
    "    R_j は R_j[i] で X[j] から X[i] の成分を取り除いた残差を得られる\n",
    "    Args:\n",
    "        X: 観測データ\n",
    "        j: 現在注目している観測データの添字\n",
    "    Returns:\n",
    "        X[j] の独立度を測る指標\n",
    "    \"\"\"\n",
    "    R_j = np.array([calc_residual(X[j], X[i]) for i in X.keys() if i != j])\n",
    "    return sum([calc_MI_kernel_value(X[j], R_j_i) for R_j_i in R_j])    "
   ]
  },
  {
   "cell_type": "code",
   "execution_count": 25,
   "metadata": {
    "autoscroll": "json-false",
    "collapsed": false,
    "ein.tags": [
     "worksheet-0"
    ]
   },
   "outputs": [],
   "source": [
    "def find_most_independent_variable(X, processes):\n",
    "    \"\"\"最も独立な変数を見つける\n",
    "    観測データのそれぞれにおいて、独立度を calc_T_kernel_value() で計算し\n",
    "    sort して最も小さな値を持つ変数の添字を返す\n",
    "    Args:\n",
    "        X: 観測データ\n",
    "    Returns:\n",
    "        最も独立な変数の添字\n",
    "    \"\"\"\n",
    "    pool = mp.Pool() if processes is None else mp.Pool(processes=processes)\n",
    "    partial_calc_T_kernel_value = functools.partial(calc_T_kernel_value, X)\n",
    "    return sorted(zip(pool.map(partial_calc_T_kernel_value, X.keys()), X.keys()))[0][1]"
   ]
  },
  {
   "cell_type": "code",
   "execution_count": 21,
   "metadata": {
    "autoscroll": "json-false",
    "collapsed": false,
    "ein.tags": [
     "worksheet-0"
    ]
   },
   "outputs": [],
   "source": [
    "def DirectLiNGAM(X, processes=None):\n",
    "    \"\"\"因果関係を推論する\n",
    "    Args:\n",
    "        X: 観測データ\n",
    "    Returns:\n",
    "        因果関係の順番の一次元配列\n",
    "    Todo:\n",
    "        隣接行列を返すようにする\n",
    "    \"\"\"\n",
    "    n = X.shape[0]\n",
    "    B = np.zeros((n, n))\n",
    "    K = []    \n",
    "    X = {i:X[i] for i in range(len(X))}    \n",
    "    while (len(X) > 0):\n",
    "        k = find_most_independent_variable(X, processes)\n",
    "        K.append(k)\n",
    "        for i in X.keys():\n",
    "            if i != k:\n",
    "                B[i][k] = calc_causal_effect(X[k], X[i])\n",
    "        X = {i:calc_residual(X[k], X[i]) for i in X.keys() if i != k}\n",
    "    return (K, B)"
   ]
  },
  {
   "cell_type": "code",
   "execution_count": 56,
   "metadata": {
    "autoscroll": "json-false",
    "collapsed": false,
    "ein.tags": [
     "worksheet-0"
    ]
   },
   "outputs": [
    {
     "data": {
      "text/plain": [
       "array([[ 0.        ,  0.        ,  0.        ,  0.        ,  0.        ],\n       [ 0.        ,  0.        ,  0.        ,  0.        ,  0.        ],\n       [-0.80626978, -0.51325576,  0.        ,  0.        ,  0.        ],\n       [ 0.        , -0.8084026 ,  0.        ,  0.        ,  0.        ],\n       [ 1.346278  , -1.19399525, -1.15138913, -1.18404126,  0.        ]])"
      ]
     },
     "execution_count": 56,
     "metadata": {},
     "output_type": "execute_result"
    }
   ],
   "source": [
    "p = 5\n",
    "n = 500\n",
    "B = generate_adjacency_matrix((p, p))\n",
    "e = generate_laplace_disturbance((p, n))\n",
    "test_data = generate_observed_data(B, e)\n",
    "test_data = permuteta_order(test_data)\n",
    "B"
   ]
  },
  {
   "cell_type": "code",
   "execution_count": 58,
   "metadata": {
    "autoscroll": "json-false",
    "collapsed": false,
    "ein.tags": [
     "worksheet-0"
    ]
   },
   "outputs": [
    {
     "data": {
      "text/plain": [
       "([4, 2, 1, 3, 0],\n array([[ 0.        , -0.92681166,  0.79442214, -2.02233323,  0.241466  ],\n        [ 0.        ,  0.        ,  1.22181191,  0.        , -0.16661638],\n        [ 0.        ,  0.        ,  0.        ,  0.        ,  0.04517514],\n        [ 0.        ,  1.95276665,  1.4331469 ,  0.        , -0.36840429],\n        [ 0.        ,  0.        ,  0.        ,  0.        ,  0.        ]]))"
      ]
     },
     "execution_count": 58,
     "metadata": {},
     "output_type": "execute_result"
    },
    {
     "name": "stdout",
     "output_type": "stream",
     "text": [
      "CPU times: user 448 ms, sys: 875 ms, total: 1.32 s\n",
      "Wall time: 20.1 s\n"
     ]
    }
   ],
   "source": [
    "%time DirectLiNGAM(test_data[0], processes=1)"
   ]
  },
  {
   "cell_type": "code",
   "execution_count": 59,
   "metadata": {
    "autoscroll": "json-false",
    "collapsed": false,
    "ein.tags": [
     "worksheet-0"
    ]
   },
   "outputs": [
    {
     "data": {
      "text/plain": [
       "([4, 0, 1, 2, 3],\n array([[ 0.        ,  0.        ,  0.        ,  0.        ,  0.241466  ],\n        [ 1.53798825,  0.        ,  0.        ,  0.        , -0.16661638],\n        [ 1.25877661,  0.48100791,  0.        ,  0.        ,  0.04517514],\n        [ 1.80401179,  1.49447835, -0.95276665,  0.        , -0.36840429],\n        [ 0.        ,  0.        ,  0.        ,  0.        ,  0.        ]]))"
      ]
     },
     "execution_count": 59,
     "metadata": {},
     "output_type": "execute_result"
    },
    {
     "name": "stdout",
     "output_type": "stream",
     "text": [
      "CPU times: user 653 ms, sys: 1.14 s, total: 1.8 s\n",
      "Wall time: 31.9 s\n"
     ]
    }
   ],
   "source": [
    "%time DirectLiNGAM(test_data[0])"
   ]
  }
 ],
 "metadata": {},
 "nbformat": 4,
 "nbformat_minor": 0
}
