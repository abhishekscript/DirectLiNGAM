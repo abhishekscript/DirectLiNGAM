
In [237]:
import numpy as np
import scipy as sp
from scipy import linalg
import multiprocessing as mp
import functools

In [182]:
def generate_bernoulli_random_variable(probability):
    """�����٥�̡���ʬ�ۤ˽��ä�ȯ������
    Args:
        probability: ������Ψ
    Returns:
        0 or 1
    """
    return np.random.binomial(1, probability)

In [183]:
def generate_adjacent_value():
    """���ܹ�������Ǥ��ͤ���������
    generate_adjacency_matrix() ����ƤФ��
    ��ʸ���̤� [-1.5, -0.5] �� [0.5, 1.5] ���ͤ���������
    Returns:
        -1.5 ~ 0.5 �� 0.5 ~ 1.5 �δ֤� Float
    """
    signes = [1, -1]
    sign = np.random.choice(signes)
    return sign * (np.random.rand() + 0.5)

In [184]:
def generate_adjacency_matrix(shape):
    """���������ܹ������������
    Args:
        shape: ����η��򥿥ץ�Ǽ�����롣(3,4) �ʤ� 3 x 4 �ι������������
    Returns:
        ���������ܹ���
    """
    s = np.random.rand()
    B = np.zeros(shape)
    for i in range(shape[0]):
        for j in range(shape[1]):
            if i > j:
                if generate_bernoulli_random_variable(s) != 0:
                    B[i][j] = generate_adjacent_value()
    return B

In [185]:
def generate_laplace_disturbance(size):
    """��ץ饹ʬ�ۤ˽����Υ������ȯ��������ؿ��Υե����ȥ�
    Returns:
        ��֥饹ʬ�ۤ˽����Υ������ȯ����
    """
    loc = 0
    scale = np.random.rand() * 2 + 1
    return np.random.laplace(loc, scale, size)

In [186]:
def generate_observed_data(B, e):
    """��¬�ǡ�������������
    Args:
        B: ���ܹ���
        e: �Υ�����
    Returns:
        ��¬�ǡ������֤�
    """
    X = np.zeros((p, n))
    X = e.copy()
    for i in range(B.shape[0]):
        for j in range(B.shape[1]):
            if B[i][j] != 0:
                X[i] += X[j]*B[i][j]
    return X            

In [187]:
def permuteta_order(X):
    """��¬�ǡ����ν��֤������ؤ���
    Args:
        X: ��¬�ǡ���
    Returns:
        �¤��ؤ�����¬�ǡ���
    """
    X = X.copy()
    order = list(range(len(X)))
    for i in range(len(X)):
        a = np.random.randint(0, len(X) - 1)
        b = np.random.randint(0, len(X) - 1)
        tmp = X[a].copy()
        X[a] = X[b]
        X[b] = tmp
        tmp = order[a]
        order[a] = order[b]
        order[b] = tmp
    return (X, order)

In [188]:
def generate_gaussian_kernel(sigma=0.5):
    """���������󥫡��ͥ���������
    ������ʬ���򸵤˥��������󥫡��ͥ�ؿ�����������
    �����ͥ�ؿ��ϰ������ͤ��ڥ��ǳ�Ǽ���줿���ץ�������ꥫ���ͥ��ͤ򻻽Ф��֤�
    sigma ����ʸ�Ǥ� 0.5 ���ä��Τǥǥե���Ȥ� 0.5 �Ȥ��Ƥ���
    Args:
        sigma: ����������ʬ�ۤ�ʬ��
    Returns:
        ���������󥫡��ͥ�ؿ�        
    """
    return lambda x_i, x_j: np.exp((-1 / (2 * sigma)) * (x_i - x_j)**2)

In [189]:
def generate_gram_matrix(x, kernel_function=generate_gaussian_kernel()):
    """�����������������
    Args:
        x: �켡������
        kernel_function: �����ͥ�ؿ�
    Returns:
        x �Υ����� n �Ȥ���ȡ� n x n �� ��������
    """
    return np.array([[kernel_function(xi, xj) for xj in x] for xi in x])    

In [295]:
def calc_log_determinant(X):
    """���󼰤��п���׻�����
    ���󼰤�׻���������� log ����
    ���󼰤��ȤƤ��礭���ͤˤʤä����˸夫�� log ���äƸ���������Τ��к����Ƥ���
    Args:
        X: ����
    Returns:
        ���󼰤��п�
    """
    U = sp.linalg.lu(X, permute_l=True)[1]
    U = np.diag(U)
    U = np.abs(U) # �ޥ��ʥ����ͤ� log ��׻�����Τ��ɤ� ���󼰤Υޥ��ʥ���ȿž��ɽ���Τ�������ˤϱƶ����ʤ����������ͤ��ä��ɤ�
    U = np.log(U).sum()
    return U

In [291]:
def calc_MI_kernel_value(X, R, kappa=2*10**(-2)):
    """�����ͥ�ˡ�����Ѥ�����߾����̤�׻�����
    Args:
        K_1: ��쥰������
        K_2: ���󥰥�����
        kappa: ������������ ��ʸ�Ǥ� 2*10^(-2) ���ä�
    Returns:
        ��߾�����
    """
    K_1 = generate_gram_matrix(X)
    K_2 = generate_gram_matrix(R)
    n = len(K_1)
    numer_11 = (K_1 + ((n*kappa)/2)*np.eye(n, n))
    numer_11 = numer_11.dot(numer_11)
    numer_12 = K_1.dot(K_2)
    numer_21 = K_2.dot(K_1)
    numer_22 = (K_2 + ((n*kappa)/2)*np.eye(n, n))
    numer_22 = numer_22.dot(numer_22)
    numer = np.r_[np.c_[numer_11, numer_12], np.c_[numer_21, numer_22]]
    denom_11 = numer_11
    denom_12 = np.zeros((n, n))
    denom_21 = np.zeros((n, n))
    denom_22 = numer_22
    denom = np.r_[np.c_[denom_11, denom_12], np.c_[denom_21, denom_22]]
    log_numer = calc_log_determinant(numer)
    log_denom = calc_log_determinant(denom)
    return (-1/2) *(log_numer - log_denom)

In [210]:
def calc_residual(x_j, x_i):
    """�ĺ���׻�����
    Args:
        x_j: �켡������ x_i ����ʬ�����������
        x_i: �켡������ ������ʬ�� x_j �������������
    Returns:
        x_j ���� x_i ����ʬ����������켡������
    """
    return x_j - (calc_causal_effect(x_j, x_i) * x_j)

In [192]:
def calc_causal_effect(x_j, x_i):
    """x_j ���� x_i �ؤɤ줯�餤�ƶ���ڤܤ����Τ��׻�����
    Args:
        x_j: �켡������
        x_i: �켡������
    Returns:
        x_j ���� x_i �ؤαƶ���
    """
    return np.cov(x_j, x_i, bias=1)[0][1] / np.var(x_j)

In [193]:
def calc_T_kernel_value(X, j):
    """j �ʳ��� ź�� i �ˤĤ��� X[i] �Ȼĺ�����߾����̤�����¤�׻�����
    R_j �� R_j[i] �� X[j] ���� X[i] ����ʬ����������ĺ���������
    Args:
        X: ��¬�ǡ���
        j: �������ܤ��Ƥ����¬�ǡ�����ź��
    Returns:        X[j] ����Ω�٤�¬���ɸ
    """
    R_j = np.array([calc_residual(X[j], X[i]) for i in X.keys() if i != j])
    return np.array([calc_MI_kernel_value(X[j], R_j_i) for R_j_i in R_j]).sum()

In [194]:
def find_most_independent_variable(X, processes):
    """�Ǥ���Ω���ѿ��򸫤Ĥ���
    ��¬�ǡ����Τ��줾��ˤ����ơ���Ω�٤� calc_T_kernel_value() �Ƿ׻���
    sort ���ƺǤ⾮�����ͤ�����ѿ���ź�����֤�
    Args:
        X: ��¬�ǡ���
    Returns:
        �Ǥ���Ω���ѿ���ź��
    """
    partial_calc_T_kernel_value = functools.partial(calc_T_kernel_value, X)
    if processes > 1:
        pool = mp.Pool(processes=processes)        
        T = np.array(list(zip(pool.map(partial_calc_T_kernel_value, X.keys()), X.keys())), dtype=[('x', float), ('y', int)])
    else:
        T = np.array(list(zip(map(partial_calc_T_kernel_value, X.keys()), X.keys())), dtype=[('x', float), ('y', int)])
    
    min = [float('inf'), 0]
    for t in T:
        if t[0] < min[0]:
            min[0] = t[0]
            min[1] = t[1]
    return min[1]

In [338]:
def DirectLiNGAM(X, processes=1):
    """���̴ط����������
    Args:
        X: ��¬�ǡ���
    Returns:
        K: ���̴ط��ν��֤ΰ켡������
        B: ���̴ط���ɽ�������ѹ���
    Example:
        K:[0,2,1]
        B:[[0,0,0],
           [1,0,0],
           [2,3,0]]
        ���ä��顢���Ϥ��줿 X �� 0 => 2 => 1 �Ȥ������̴ط������äơ����δط���
        ���� B �Τ褦�ˤʤäƤ���Ȥ�������  
    """
    n = X.shape[0]
    B_buffer = np.zeros((n, n))
    K = []    
    X = {i:X[i] for i in range(len(X))}
    
    while (len(X) > 0):
        k = find_most_independent_variable(X, processes)
        K.append(k)
        for i in X.keys():
            if i != k:
                # k => i �ؤΰ��̸���
                B_buffer[i][k] = calc_causal_effect(X[k], X[i])
        X = {i:calc_residual(X[k], X[i]) for i in X.keys() if i != k}

    # B_buffer �� �����ѹ�����¤��ؤ���
    B = np.zeros((n , n))
    for i in range(n):
        for j in range(n):
            if j < i:
                B[i][j] = B_buffer[K[i]][K[j]]

    return (K, B)

In [339]:
x = np.random.laplace(size=500)
y = np.random.laplace(size=500) + x
z = np.random.laplace(size=500) + x + 8 * y
test_data = np.array([x, z, y])
DirectLiNGAM(test_data)
([0, 2, 1], array([[   0.        ,    0.        ,    0.        ],
        [   0.94236569,    0.        ,    0.        ],
        [   8.51721272, -130.42946976,    0.        ]]))

In [340]:
p = 5
n = 500
B = generate_adjacency_matrix((p, p))
e = generate_laplace_disturbance((p, n))
test_data = generate_observed_data(B, e)
test_data = permuteta_order(test_data)
test_data[1]
[1, 3, 2, 0, 4]

In [342]:
test_data[1]
[1, 3, 2, 0, 4]

In [341]:
%time DirectLiNGAM(test_data[0])
CPU times: user 1min 14s, sys: 120 ms, total: 1min 14s
Wall time: 1min 14s

([2, 1, 3, 0, 4], array([[  0.00000000e+00,   0.00000000e+00,   0.00000000e+00,
           0.00000000e+00,   0.00000000e+00],
        [  9.52756900e-01,   0.00000000e+00,   0.00000000e+00,
           0.00000000e+00,   0.00000000e+00],
        [ -1.15892221e-02,   2.14124226e+01,   0.00000000e+00,
           0.00000000e+00,   0.00000000e+00],
        [ -6.98977763e-02,   2.26466463e+01,   1.06046434e+00,
           0.00000000e+00,   0.00000000e+00],
        [  2.03073113e-01,   1.68686408e+01,   7.77401153e-01,
          -3.68148958e+00,   0.00000000e+00]]))

