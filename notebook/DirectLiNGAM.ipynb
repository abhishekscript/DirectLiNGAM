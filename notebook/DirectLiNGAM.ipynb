{
 "cells": [
  {
   "cell_type": "code",
   "execution_count": 1,
   "metadata": {
    "autoscroll": "json-false",
    "collapsed": false,
    "ein.tags": [
     "worksheet-0"
    ]
   },
   "outputs": [],
   "source": [
    "%matplotlib inline\n",
    "import numpy as np\n",
    "import scipy as sp\n",
    "from scipy import linalg\n",
    "import multiprocessing as mp\n",
    "import functools\n",
    "import networkx as nx\n",
    "from graphviz import Digraph\n",
    "from IPython.display import Image\n",
    "import pandas as pd\n",
    "import logging"
   ]
  },
  {
   "cell_type": "code",
   "execution_count": 2,
   "metadata": {
    "autoscroll": "json-false",
    "collapsed": false,
    "ein.tags": [
     "worksheet-0"
    ]
   },
   "outputs": [],
   "source": [
    "def generate_bernoulli_random_variable(probability):\n",
    "    \"\"\"乱数をベルヌーイ分布に従って発生する\n",
    "    Args:\n",
    "        probability: 成功確率\n",
    "    Returns:\n",
    "        0 or 1\n",
    "    \"\"\"\n",
    "    return np.random.binomial(1, probability)"
   ]
  },
  {
   "cell_type": "code",
   "execution_count": 3,
   "metadata": {
    "autoscroll": "json-false",
    "collapsed": false,
    "ein.tags": [
     "worksheet-0"
    ]
   },
   "outputs": [],
   "source": [
    "def generate_adjacent_value():\n",
    "    \"\"\"隣接行列の要素の値を生成する\n",
    "    generate_adjacency_matrix() から呼ばれる\n",
    "    論文の通り [-1.5, -0.5] か [0.5, 1.5] の値を生成する\n",
    "    Returns:\n",
    "        -1.5 ~ 0.5 か 0.5 ~ 1.5 の間の Float\n",
    "    \"\"\"\n",
    "    signes = [1, -1]\n",
    "    sign = np.random.choice(signes)\n",
    "    return sign * (np.random.rand() + 0.5)"
   ]
  },
  {
   "cell_type": "code",
   "execution_count": 4,
   "metadata": {
    "autoscroll": "json-false",
    "collapsed": false,
    "ein.tags": [
     "worksheet-0"
    ]
   },
   "outputs": [],
   "source": [
    "def generate_adjacency_matrix(shape):\n",
    "    \"\"\"下三角隣接行列を生成する\n",
    "    Args:\n",
    "        shape: 行列の形をタプルで受け取る。(3,4) なら 3 x 4 の行列を生成する\n",
    "    Returns:\n",
    "        下三角隣接行列\n",
    "    \"\"\"\n",
    "    s = np.random.rand()\n",
    "    B = np.zeros(shape)\n",
    "    for i in range(shape[0]):\n",
    "        for j in range(shape[1]):\n",
    "            if i > j:\n",
    "                if generate_bernoulli_random_variable(s) != 0:\n",
    "                    B[i][j] = generate_adjacent_value()\n",
    "    return B"
   ]
  },
  {
   "cell_type": "code",
   "execution_count": 5,
   "metadata": {
    "autoscroll": "json-false",
    "collapsed": false,
    "ein.tags": [
     "worksheet-0"
    ]
   },
   "outputs": [],
   "source": [
    "def generate_laplace_disturbance(size):\n",
    "    \"\"\"ラプラス分布に従うノイズ項を発生させる関数のファクトリ\n",
    "    Returns:\n",
    "        ラブラス分布に従うノイズ項の発生値\n",
    "    \"\"\"\n",
    "    loc = 0\n",
    "    scale = np.random.rand() * 2 + 1\n",
    "    return np.random.laplace(loc, scale, size)"
   ]
  },
  {
   "cell_type": "code",
   "execution_count": 6,
   "metadata": {
    "autoscroll": "json-false",
    "collapsed": false,
    "ein.tags": [
     "worksheet-0"
    ]
   },
   "outputs": [],
   "source": [
    "def generate_observed_data(B, e):\n",
    "    \"\"\"観測データを生成する\n",
    "    Args:\n",
    "        B: 隣接行列\n",
    "        e: ノイズ項\n",
    "    Returns:\n",
    "        観測データを返す\n",
    "    \"\"\"\n",
    "    X = np.zeros((p, n))\n",
    "    X = e.copy()\n",
    "    for i in range(B.shape[0]):\n",
    "        for j in range(B.shape[1]):\n",
    "            if B[i][j] != 0:\n",
    "                X[i] += X[j]*B[i][j]\n",
    "    return X            "
   ]
  },
  {
   "cell_type": "code",
   "execution_count": 7,
   "metadata": {
    "autoscroll": "json-false",
    "collapsed": false,
    "ein.tags": [
     "worksheet-0"
    ]
   },
   "outputs": [],
   "source": [
    "def permuteta_order(X):\n",
    "    \"\"\"観測データの順番を入れ替える\n",
    "    Args:\n",
    "        X: 観測データ\n",
    "    Returns:\n",
    "        並び替えた観測データ\n",
    "    \"\"\"\n",
    "    X = X.copy()\n",
    "    order = list(range(len(X)))\n",
    "    for i in range(len(X)):\n",
    "        a = np.random.randint(0, len(X) - 1)\n",
    "        b = np.random.randint(0, len(X) - 1)\n",
    "        tmp = X[a].copy()\n",
    "        X[a] = X[b]\n",
    "        X[b] = tmp\n",
    "        tmp = order[a]\n",
    "        order[a] = order[b]\n",
    "        order[b] = tmp\n",
    "    return (X, order)"
   ]
  },
  {
   "cell_type": "code",
   "execution_count": 8,
   "metadata": {
    "autoscroll": "json-false",
    "collapsed": false,
    "ein.tags": [
     "worksheet-0"
    ]
   },
   "outputs": [],
   "source": [
    "def generate_gaussian_kernel(sigma=0.5):\n",
    "    \"\"\"ガウシアンカーネル生成する\n",
    "    引数の分散を元にガウシアンカーネル関数を生成する\n",
    "    カーネル関数は引数に値がペアで格納されたタプルを受け取りカーネル値を算出し返す\n",
    "    sigma は論文では 0.5 だったのでデフォルトで 0.5 としている\n",
    "    Args:\n",
    "        sigma: ガウシアン分布の分散\n",
    "    Returns:\n",
    "        ガウシアンカーネル関数        \n",
    "    \"\"\"\n",
    "    return lambda x_i, x_j: np.exp((-1 / (2 * (sigma**2))) * ((x_i - x_j)**2))"
   ]
  },
  {
   "cell_type": "code",
   "execution_count": 9,
   "metadata": {
    "autoscroll": "json-false",
    "collapsed": false,
    "ein.tags": [
     "worksheet-0"
    ]
   },
   "outputs": [],
   "source": [
    "def generate_gram_matrix(x, kernel_function=generate_gaussian_kernel()):\n",
    "    \"\"\"グラム行列を生成する\n",
    "    Args:\n",
    "        x: 一次元配列\n",
    "        kernel_function: カーネル関数\n",
    "    Returns:\n",
    "        x のサイズ n とすると、 n x n の グラム行列\n",
    "    \"\"\"\n",
    "    return np.array([[kernel_function(xi, xj) for xj in x] for xi in x])"
   ]
  },
  {
   "cell_type": "code",
   "execution_count": 28,
   "metadata": {
    "autoscroll": "json-false",
    "collapsed": false,
    "ein.tags": [
     "worksheet-0"
    ]
   },
   "outputs": [],
   "source": [
    "def centering_gram_matrix(K):\n",
    "    \"\"\"グラム行列をセンタリングする\n",
    "    Args:\n",
    "        K: グラム行列\n",
    "    Returns:\n",
    "        センタリングしたグラム行列\n",
    "    \"\"\"\n",
    "    n = len(K)\n",
    "    P = np.array([[-1/n if i!=j else (n-2)/n for j in range(n)] for i in range(n)])\n",
    "    return P.dot(K).dot(P)"
   ]
  },
  {
   "cell_type": "code",
   "execution_count": 10,
   "metadata": {
    "autoscroll": "json-false",
    "collapsed": false,
    "ein.tags": [
     "worksheet-0"
    ]
   },
   "outputs": [],
   "source": [
    "def calc_log_determinant(X):\n",
    "    \"\"\"行列式の対数を計算する\n",
    "    行列式を計算する途中で log を取る\n",
    "    行列式がとても大きい値になった場合に後から log を取って誤差が生じるのを対策している\n",
    "    そもそも行列式が Inf になるから log とって総和取る\n",
    "    Args:\n",
    "        X: 行列\n",
    "    Returns:\n",
    "        行列式の対数\n",
    "    \"\"\"\n",
    "    U = sp.linalg.lu(X, permute_l=True)[1]\n",
    "    U = np.diag(U)\n",
    "    U = np.abs(U) # マイナスの値の log を計算するのを防ぐ\n",
    "    U = np.log(U).sum()\n",
    "    return U"
   ]
  },
  {
   "cell_type": "code",
   "execution_count": 31,
   "metadata": {
    "autoscroll": "json-false",
    "collapsed": false,
    "ein.tags": [
     "worksheet-0"
    ]
   },
   "outputs": [],
   "source": [
    "def calc_MI_kernel_value(x, r, kappa=2*10**(-2)):\n",
    "    \"\"\"カーネル法を利用して相互情報量を計算する\n",
    "    Args:\n",
    "        x: 観測データ\n",
    "        r: 残差\n",
    "        kappa: 小さい正の値 論文では 2*10^(-2) だった\n",
    "    Returns:\n",
    "        相互情報量\n",
    "    \"\"\"\n",
    "    K_1 = generate_gram_matrix(x)\n",
    "    K_2 = generate_gram_matrix(r)\n",
    "    K_1 = centering_gram_matrix(K_1)\n",
    "    K_2 = centering_gram_matrix(K_2)\n",
    "    n = len(x)\n",
    "    numer_11 = (K_1 + ((n*kappa)/2)*np.eye(n, n))\n",
    "    numer_11 = numer_11.dot(numer_11)\n",
    "    numer_12 = K_1.dot(K_2)\n",
    "    numer_21 = K_2.dot(K_1)\n",
    "    numer_22 = (K_2 + ((n*kappa)/2)*np.eye(n, n))\n",
    "    numer_22 = numer_22.dot(numer_22)\n",
    "    numer = np.r_[np.c_[numer_11, numer_12], np.c_[numer_21, numer_22]]\n",
    "\n",
    "    denom_11 = numer_11\n",
    "    denom_12 = np.zeros((n, n))\n",
    "    denom_21 = np.zeros((n, n))\n",
    "    denom_22 = numer_22\n",
    "    denom = np.r_[np.c_[denom_11, denom_12], np.c_[denom_21, denom_22]]\n",
    "    log_numer = calc_log_determinant(numer)\n",
    "    log_denom = calc_log_determinant(denom)\n",
    "    return (-1/2) * (log_numer - log_denom)"
   ]
  },
  {
   "cell_type": "code",
   "execution_count": 12,
   "metadata": {
    "autoscroll": "json-false",
    "collapsed": false,
    "ein.tags": [
     "worksheet-0"
    ]
   },
   "outputs": [],
   "source": [
    "def calc_residual(x_i, x_j):\n",
    "    \"\"\"残差を計算する\n",
    "    x_i が x_j から受けている影響を取り除く\n",
    "    Args:\n",
    "        x_i: 一次元配列 これからx_j の成分を取り除きたい\n",
    "        x_j: 一次元配列 この成分を x_i から取り除きたい\n",
    "    Returns:\n",
    "        x_i から x_j の成分を取り除いた一次元配列\n",
    "    \"\"\"\n",
    "    return x_i - (calc_causal_effect(x_i, x_j) * x_j)"
   ]
  },
  {
   "cell_type": "code",
   "execution_count": 13,
   "metadata": {
    "autoscroll": "json-false",
    "collapsed": false,
    "ein.tags": [
     "worksheet-0"
    ]
   },
   "outputs": [],
   "source": [
    "def calc_causal_effect(x_i, x_j):\n",
    "    \"\"\"x_j から x_i へどれくらい影響を及ぼすのか計算する\n",
    "    Args:\n",
    "        x_i: 一次元配列\n",
    "        x_j: 一次元配列\n",
    "    Returns:\n",
    "        x_j が x_i へ与える影響値\n",
    "    \"\"\"\n",
    "    return np.cov(x_i, x_j, bias=1)[0][1] / np.var(x_j)"
   ]
  },
  {
   "cell_type": "code",
   "execution_count": 14,
   "metadata": {
    "autoscroll": "json-false",
    "collapsed": false,
    "ein.tags": [
     "worksheet-0"
    ]
   },
   "outputs": [],
   "source": [
    "def calc_T_kernel_value(X, j):\n",
    "    \"\"\"j 以外の 添字 i について X[i] から j の要素を取り除いた残差の相互情報量をの総和を計算する\n",
    "    R_j は R_j[i] で X[i] から X[j] の成分を取り除いた残差を得られる\n",
    "    残差と観測データの相互情報量が最も小さいものが一番独立\n",
    "    Args:\n",
    "        X: 観測データ\n",
    "        j: 現在注目している観測データの添字\n",
    "    Returns:\n",
    "        X[j] の独立度を測る指標\n",
    "    \"\"\"\n",
    "    R_j = np.array([calc_residual(X[i], X[j]) for i in X.keys() if i != j])\n",
    "    T_kernel_value = np.array([calc_MI_kernel_value(X[j], R_j_i) for R_j_i in R_j]).sum()\n",
    "    return T_kernel_value"
   ]
  },
  {
   "cell_type": "code",
   "execution_count": 15,
   "metadata": {
    "autoscroll": "json-false",
    "collapsed": false,
    "ein.tags": [
     "worksheet-0"
    ]
   },
   "outputs": [],
   "source": [
    "def find_most_independent_variable(X, processes):\n",
    "    \"\"\"最も独立な変数を見つける\n",
    "    観測データのそれぞれにおいて、独立度を calc_T_kernel_value() で計算し\n",
    "    最も小さな値を持つ変数の添字を返す\n",
    "    Args:\n",
    "        X: 観測データ\n",
    "    Returns:\n",
    "        最も独立な変数の添字\n",
    "    \"\"\"\n",
    "    partial_calc_T_kernel_value = functools.partial(calc_T_kernel_value, X) # pool.map() は引数が 1 つの関数しか使えないので partial() で部分適用をする\n",
    "    if processes > 1:\n",
    "        pool = mp.Pool(processes=processes)        \n",
    "        T = np.array(list(zip(pool.map(partial_calc_T_kernel_value, X.keys()), X.keys())), dtype=[('x', float), ('y', int)])\n",
    "    else:\n",
    "        T = np.array(list(zip(map(partial_calc_T_kernel_value, X.keys()), X.keys())), dtype=[('x', float), ('y', int)])\n",
    "    min = (float('inf'), 0)\n",
    "    for t in T:\n",
    "        if t[0] < min[0]:\n",
    "            min = t\n",
    "    return min[1]"
   ]
  },
  {
   "cell_type": "code",
   "execution_count": 16,
   "metadata": {
    "autoscroll": "json-false",
    "collapsed": false,
    "ein.tags": [
     "worksheet-0"
    ]
   },
   "outputs": [],
   "source": [
    "def DirectLiNGAM(X, prior_matrix=None, processes=1):\n",
    "    \"\"\"因果関係を推論する\n",
    "    Args:\n",
    "        X: 観測データ\n",
    "        prior_matrix: 事前知識行列\n",
    "    Returns:\n",
    "        K: 因果関係の順番の一次元配列\n",
    "        B: 因果関係を表す下三角行列\n",
    "    Example:\n",
    "        K:[0,2,1]\n",
    "        B:[[0,0,0],\n",
    "           [1,0,0],\n",
    "           [2,3,0]]\n",
    "        だったら、入力された X は 0 => 2 => 1 という因果関係があって、その関係は\n",
    "        行列 B のようになっているということ  \n",
    "    Todo:\n",
    "        事前知識が使われているかどうかの判定チェックが逐次行われて汚い読みづらい\n",
    "        事前知識行列が正しい形をしているかどうかチェックする([1][2] は 1 だけど [2][1] は -1 みたいなのはダメ)\n",
    "    \"\"\"\n",
    "    n = X.shape[0]\n",
    "    B_buffer = np.zeros((n, n))\n",
    "    K = []\n",
    "    X = {i:X[i] for i in range(n)}\n",
    "    if prior_matrix is not None:\n",
    "        prior_matrix = {i:{j:prior_matrix[i][j] for j in range(n)} for i in range(n)}\n",
    "\n",
    "    while (len(X) > 0):\n",
    "        if prior_matrix is not None:\n",
    "            candidate = {i:True for i in X.keys()}\n",
    "            for i in X.keys():\n",
    "                for j in X.keys():\n",
    "                    if candidate[i]:\n",
    "                        if prior_matrix[i][j] == 1:\n",
    "                            candidate[i] = False\n",
    "                        if prior_matrix[i][j] == 0:\n",
    "                            candidate[j] = False\n",
    "            X_used_prior = {i: X[i] for i in X.keys() if candidate[i]}\n",
    "            k = find_most_independent_variable(X_used_prior, processes)\n",
    "        else:\n",
    "            k = find_most_independent_variable(X, processes)\n",
    "        K.append(k)\n",
    "        for i in X.keys():\n",
    "            if i != k:\n",
    "                # k => i への因果効果\n",
    "                B_buffer[i][k] = calc_causal_effect(X[i], X[k])\n",
    "        X = {i:calc_residual(X[i], X[k]) for i in X.keys() if i != k}\n",
    "\n",
    "    # B_buffer を 下三角行列に並び替える\n",
    "    B = np.zeros((n , n))\n",
    "    for i in range(n):\n",
    "        for j in range(n):\n",
    "            if j < i:\n",
    "                B[i][j] = B_buffer[K[i]][K[j]]\n",
    "\n",
    "    return (K, B)"
   ]
  },
  {
   "cell_type": "code",
   "execution_count": 17,
   "metadata": {
    "autoscroll": "json-false",
    "collapsed": false,
    "ein.tags": [
     "worksheet-0"
    ]
   },
   "outputs": [],
   "source": [
    "def draw_causal_graph(result_order, result_matrix, observed_data_labels, output_name='graph', format='png'):\n",
    "    G = Digraph(format=format, engine='dot')\n",
    "    G.attr('node', shape='circle')\n",
    "    for label in observed_data_labels:\n",
    "        G.node(str(label), str(label))\n",
    "\n",
    "    for i in result_order:\n",
    "        for j in result_order:\n",
    "            if result_matrix[i][j] != 0:\n",
    "                G.edge(str(labels[result_order[j]]), str(labels[result_order[i]]), str(result_matrix[i][j]))\n",
    "\n",
    "    G.render(output_name)\n",
    "    return \"{0}.{1}\".format(output_name, format)"
   ]
  },
  {
   "cell_type": "code",
   "execution_count": 32,
   "metadata": {
    "autoscroll": "json-false",
    "collapsed": false,
    "ein.tags": [
     "worksheet-0"
    ]
   },
   "outputs": [
    {
     "data": {
      "text/plain": [
       "<IPython.core.display.Image object>"
      ]
     },
     "execution_count": 32,
     "metadata": {},
     "output_type": "execute_result",
     "png": "[encoded data removed]"
    }
   ],
   "source": [
    "a = np.random.laplace(size=500)\n",
    "b = np.random.laplace(size=500) + a\n",
    "c = np.random.laplace(size=500) + a + b\n",
    "d = np.random.laplace(size=500) + a + b + c\n",
    "e = np.random.laplace(size=500) + a + b + c + d\n",
    "test_data = np.array([a,b,c,d,e])\n",
    "#prior_matrix = [[-1, 1, 1], [0, -1, -1], [-1, 0, -1]]\n",
    "labels = ['a', 'b', 'c', 'd', 'e']\n",
    "#DirectLiNGAM(test_data, prior_matrix)\n",
    "result = DirectLiNGAM(test_data)\n",
    "result_order = result[0]\n",
    "result_matrix = result[1]\n",
    "Image(draw_causal_graph(result_order, result_matrix, labels))"
   ]
  },
  {
   "cell_type": "code",
   "execution_count": 19,
   "metadata": {
    "autoscroll": "json-false",
    "collapsed": false,
    "ein.tags": [
     "worksheet-0"
    ]
   },
   "outputs": [
    {
     "data": {
      "text/plain": [
       "<IPython.core.display.Image object>"
      ]
     },
     "execution_count": 19,
     "metadata": {},
     "output_type": "execute_result",
     "png": "[encoded data removed]"
    }
   ],
   "source": [
    "data = pd.read_csv('res.txt', header=None, delim_whitespace=True).values.T\n",
    "labels = ['theata1', 'theta2', 'omega1', 'omega2']\n",
    "#result = DirectLiNGAM(data, processes=6)\n",
    "result_order = result[0]\n",
    "result_matrix = result[1]\n",
    "Image(draw_causal_graph(result_order, result_matrix, labels))"
   ]
  }
 ],
 "metadata": {},
 "nbformat": 4,
 "nbformat_minor": 0
}
