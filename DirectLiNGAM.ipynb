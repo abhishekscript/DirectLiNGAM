{
 "cells": [
  {
   "cell_type": "code",
   "execution_count": 237,
   "metadata": {
    "autoscroll": "json-false",
    "collapsed": false,
    "ein.tags": [
     "worksheet-0"
    ]
   },
   "outputs": [],
   "source": [
    "import numpy as np\n",
    "import scipy as sp\n",
    "from scipy import linalg\n",
    "import multiprocessing as mp\n",
    "import functools"
   ]
  },
  {
   "cell_type": "code",
   "execution_count": 182,
   "metadata": {
    "autoscroll": "json-false",
    "collapsed": false,
    "ein.tags": [
     "worksheet-0"
    ]
   },
   "outputs": [],
   "source": [
    "def generate_bernoulli_random_variable(probability):\n",
    "    \"\"\"乱数をベルヌーイ分布に従って発生する\n",
    "    Args:\n",
    "        probability: 成功確率\n",
    "    Returns:\n",
    "        0 or 1\n",
    "    \"\"\"\n",
    "    return np.random.binomial(1, probability)"
   ]
  },
  {
   "cell_type": "code",
   "execution_count": 183,
   "metadata": {
    "autoscroll": "json-false",
    "collapsed": false,
    "ein.tags": [
     "worksheet-0"
    ]
   },
   "outputs": [],
   "source": [
    "def generate_adjacent_value():\n",
    "    \"\"\"隣接行列の要素の値を生成する\n",
    "    generate_adjacency_matrix() から呼ばれる\n",
    "    論文の通り [-1.5, -0.5] か [0.5, 1.5] の値を生成する\n",
    "    Returns:\n",
    "        -1.5 ~ 0.5 か 0.5 ~ 1.5 の間の Float\n",
    "    \"\"\"\n",
    "    signes = [1, -1]\n",
    "    sign = np.random.choice(signes)\n",
    "    return sign * (np.random.rand() + 0.5)"
   ]
  },
  {
   "cell_type": "code",
   "execution_count": 184,
   "metadata": {
    "autoscroll": "json-false",
    "collapsed": false,
    "ein.tags": [
     "worksheet-0"
    ]
   },
   "outputs": [],
   "source": [
    "def generate_adjacency_matrix(shape):\n",
    "    \"\"\"下三角隣接行列を生成する\n",
    "    Args:\n",
    "        shape: 行列の形をタプルで受け取る。(3,4) なら 3 x 4 の行列を生成する\n",
    "    Returns:\n",
    "        下三角隣接行列\n",
    "    \"\"\"\n",
    "    s = np.random.rand()\n",
    "    B = np.zeros(shape)\n",
    "    for i in range(shape[0]):\n",
    "        for j in range(shape[1]):\n",
    "            if i > j:\n",
    "                if generate_bernoulli_random_variable(s) != 0:\n",
    "                    B[i][j] = generate_adjacent_value()\n",
    "    return B"
   ]
  },
  {
   "cell_type": "code",
   "execution_count": 185,
   "metadata": {
    "autoscroll": "json-false",
    "collapsed": false,
    "ein.tags": [
     "worksheet-0"
    ]
   },
   "outputs": [],
   "source": [
    "def generate_laplace_disturbance(size):\n",
    "    \"\"\"ラプラス分布に従うノイズ項を発生させる関数のファクトリ\n",
    "    Returns:\n",
    "        ラブラス分布に従うノイズ項の発生値\n",
    "    \"\"\"\n",
    "    loc = 0\n",
    "    scale = np.random.rand() * 2 + 1\n",
    "    return np.random.laplace(loc, scale, size)"
   ]
  },
  {
   "cell_type": "code",
   "execution_count": 186,
   "metadata": {
    "autoscroll": "json-false",
    "collapsed": false,
    "ein.tags": [
     "worksheet-0"
    ]
   },
   "outputs": [],
   "source": [
    "def generate_observed_data(B, e):\n",
    "    \"\"\"観測データを生成する\n",
    "    Args:\n",
    "        B: 隣接行列\n",
    "        e: ノイズ項\n",
    "    Returns:\n",
    "        観測データを返す\n",
    "    \"\"\"\n",
    "    X = np.zeros((p, n))\n",
    "    X = e.copy()\n",
    "    for i in range(B.shape[0]):\n",
    "        for j in range(B.shape[1]):\n",
    "            if B[i][j] != 0:\n",
    "                X[i] += X[j]*B[i][j]\n",
    "    return X            "
   ]
  },
  {
   "cell_type": "code",
   "execution_count": 187,
   "metadata": {
    "autoscroll": "json-false",
    "collapsed": false,
    "ein.tags": [
     "worksheet-0"
    ]
   },
   "outputs": [],
   "source": [
    "def permuteta_order(X):\n",
    "    \"\"\"観測データの順番を入れ替える\n",
    "    Args:\n",
    "        X: 観測データ\n",
    "    Returns:\n",
    "        並び替えた観測データ\n",
    "    \"\"\"\n",
    "    X = X.copy()\n",
    "    order = list(range(len(X)))\n",
    "    for i in range(len(X)):\n",
    "        a = np.random.randint(0, len(X) - 1)\n",
    "        b = np.random.randint(0, len(X) - 1)\n",
    "        tmp = X[a].copy()\n",
    "        X[a] = X[b]\n",
    "        X[b] = tmp\n",
    "        tmp = order[a]\n",
    "        order[a] = order[b]\n",
    "        order[b] = tmp\n",
    "    return (X, order)"
   ]
  },
  {
   "cell_type": "code",
   "execution_count": 188,
   "metadata": {
    "autoscroll": "json-false",
    "collapsed": false,
    "ein.tags": [
     "worksheet-0"
    ]
   },
   "outputs": [],
   "source": [
    "def generate_gaussian_kernel(sigma=0.5):\n",
    "    \"\"\"ガウシアンカーネル生成する\n",
    "    引数の分散を元にガウシアンカーネル関数を生成する\n",
    "    カーネル関数は引数に値がペアで格納されたタプルを受け取りカーネル値を算出し返す\n",
    "    sigma は論文では 0.5 だったのでデフォルトで 0.5 としている\n",
    "    Args:\n",
    "        sigma: ガウシアン分布の分散\n",
    "    Returns:\n",
    "        ガウシアンカーネル関数        \n",
    "    \"\"\"\n",
    "    return lambda x_i, x_j: np.exp((-1 / (2 * sigma)) * (x_i - x_j)**2)"
   ]
  },
  {
   "cell_type": "code",
   "execution_count": 189,
   "metadata": {
    "autoscroll": "json-false",
    "collapsed": false,
    "ein.tags": [
     "worksheet-0"
    ]
   },
   "outputs": [],
   "source": [
    "def generate_gram_matrix(x, kernel_function=generate_gaussian_kernel()):\n",
    "    \"\"\"グラム行列を生成する\n",
    "    Args:\n",
    "        x: 一次元配列\n",
    "        kernel_function: カーネル関数\n",
    "    Returns:\n",
    "        x のサイズ n とすると、 n x n の グラム行列\n",
    "    \"\"\"\n",
    "    return np.array([[kernel_function(xi, xj) for xj in x] for xi in x])    "
   ]
  },
  {
   "cell_type": "code",
   "execution_count": 295,
   "metadata": {
    "autoscroll": "json-false",
    "collapsed": false,
    "ein.tags": [
     "worksheet-0"
    ]
   },
   "outputs": [],
   "source": [
    "def calc_log_determinant(X):\n",
    "    \"\"\"行列式の対数を計算する\n",
    "    行列式を計算する途中で log を取る\n",
    "    行列式がとても大きい値になった場合に後から log を取って誤差が生じるのを対策している\n",
    "    Args:\n",
    "        X: 行列\n",
    "    Returns:\n",
    "        行列式の対数\n",
    "    \"\"\"\n",
    "    U = sp.linalg.lu(X, permute_l=True)[1]\n",
    "    U = np.diag(U)\n",
    "    U = np.abs(U) # マイナスの値の log を計算するのを防ぐ 行列式のマイナスは反転を表すので面積比には影響がないため絶対値を取って良い\n",
    "    U = np.log(U).sum()\n",
    "    return U"
   ]
  },
  {
   "cell_type": "code",
   "execution_count": 291,
   "metadata": {
    "autoscroll": "json-false",
    "collapsed": false,
    "ein.tags": [
     "worksheet-0"
    ]
   },
   "outputs": [],
   "source": [
    "def calc_MI_kernel_value(X, R, kappa=2*10**(-2)):\n",
    "    \"\"\"カーネル法を利用して相互情報量を計算する\n",
    "    Args:\n",
    "        K_1: 第一グラム行列\n",
    "        K_2: 第二グラム行列\n",
    "        kappa: 小さい正の値 論文では 2*10^(-2) だった\n",
    "    Returns:\n",
    "        相互情報量\n",
    "    \"\"\"\n",
    "    K_1 = generate_gram_matrix(X)\n",
    "    K_2 = generate_gram_matrix(R)\n",
    "    n = len(K_1)\n",
    "    numer_11 = (K_1 + ((n*kappa)/2)*np.eye(n, n))\n",
    "    numer_11 = numer_11.dot(numer_11)\n",
    "    numer_12 = K_1.dot(K_2)\n",
    "    numer_21 = K_2.dot(K_1)\n",
    "    numer_22 = (K_2 + ((n*kappa)/2)*np.eye(n, n))\n",
    "    numer_22 = numer_22.dot(numer_22)\n",
    "    numer = np.r_[np.c_[numer_11, numer_12], np.c_[numer_21, numer_22]]\n",
    "    denom_11 = numer_11\n",
    "    denom_12 = np.zeros((n, n))\n",
    "    denom_21 = np.zeros((n, n))\n",
    "    denom_22 = numer_22\n",
    "    denom = np.r_[np.c_[denom_11, denom_12], np.c_[denom_21, denom_22]]\n",
    "    log_numer = calc_log_determinant(numer)\n",
    "    log_denom = calc_log_determinant(denom)\n",
    "    return (-1/2) *(log_numer - log_denom)"
   ]
  },
  {
   "cell_type": "code",
   "execution_count": 210,
   "metadata": {
    "autoscroll": "json-false",
    "collapsed": false,
    "ein.tags": [
     "worksheet-0"
    ]
   },
   "outputs": [],
   "source": [
    "def calc_residual(x_j, x_i):\n",
    "    \"\"\"残差を計算する\n",
    "    Args:\n",
    "        x_j: 一次元配列 x_i の成分を取り除きたい\n",
    "        x_i: 一次元配列 この成分を x_j から取り除きたい\n",
    "    Returns:\n",
    "        x_j から x_i の成分を取り除いた一次元配列\n",
    "    \"\"\"\n",
    "    return x_j - (calc_causal_effect(x_j, x_i) * x_j)"
   ]
  },
  {
   "cell_type": "code",
   "execution_count": 192,
   "metadata": {
    "autoscroll": "json-false",
    "collapsed": false,
    "ein.tags": [
     "worksheet-0"
    ]
   },
   "outputs": [],
   "source": [
    "def calc_causal_effect(x_j, x_i):\n",
    "    \"\"\"x_j から x_i へどれくらい影響を及ぼしすのか計算する\n",
    "    Args:\n",
    "        x_j: 一次元配列\n",
    "        x_i: 一次元配列\n",
    "    Returns:\n",
    "        x_j から x_i への影響値\n",
    "    \"\"\"\n",
    "    return np.cov(x_j, x_i, bias=1)[0][1] / np.var(x_j)"
   ]
  },
  {
   "cell_type": "code",
   "execution_count": 193,
   "metadata": {
    "autoscroll": "json-false",
    "collapsed": false,
    "ein.tags": [
     "worksheet-0"
    ]
   },
   "outputs": [],
   "source": [
    "def calc_T_kernel_value(X, j):\n",
    "    \"\"\"j 以外の 添字 i について X[i] と残差の相互情報量をの総和を計算する\n",
    "    R_j は R_j[i] で X[j] から X[i] の成分を取り除いた残差を得られる\n",
    "    Args:\n",
    "        X: 観測データ\n",
    "        j: 現在注目している観測データの添字\n",
    "    Returns:        X[j] の独立度を測る指標\n",
    "    \"\"\"\n",
    "    R_j = np.array([calc_residual(X[j], X[i]) for i in X.keys() if i != j])\n",
    "    return np.array([calc_MI_kernel_value(X[j], R_j_i) for R_j_i in R_j]).sum()"
   ]
  },
  {
   "cell_type": "code",
   "execution_count": 194,
   "metadata": {
    "autoscroll": "json-false",
    "collapsed": false,
    "ein.tags": [
     "worksheet-0"
    ]
   },
   "outputs": [],
   "source": [
    "def find_most_independent_variable(X, processes):\n",
    "    \"\"\"最も独立な変数を見つける\n",
    "    観測データのそれぞれにおいて、独立度を calc_T_kernel_value() で計算し\n",
    "    sort して最も小さな値を持つ変数の添字を返す\n",
    "    Args:\n",
    "        X: 観測データ\n",
    "    Returns:\n",
    "        最も独立な変数の添字\n",
    "    \"\"\"\n",
    "    partial_calc_T_kernel_value = functools.partial(calc_T_kernel_value, X)\n",
    "    if processes > 1:\n",
    "        pool = mp.Pool(processes=processes)        \n",
    "        T = np.array(list(zip(pool.map(partial_calc_T_kernel_value, X.keys()), X.keys())), dtype=[('x', float), ('y', int)])\n",
    "    else:\n",
    "        T = np.array(list(zip(map(partial_calc_T_kernel_value, X.keys()), X.keys())), dtype=[('x', float), ('y', int)])\n",
    "    \n",
    "    min = [float('inf'), 0]\n",
    "    for t in T:\n",
    "        if t[0] < min[0]:\n",
    "            min[0] = t[0]\n",
    "            min[1] = t[1]\n",
    "    return min[1]"
   ]
  },
  {
   "cell_type": "code",
   "execution_count": 338,
   "metadata": {
    "autoscroll": "json-false",
    "collapsed": false,
    "ein.tags": [
     "worksheet-0"
    ]
   },
   "outputs": [],
   "source": [
    "def DirectLiNGAM(X, processes=1):\n",
    "    \"\"\"因果関係を推論する\n",
    "    Args:\n",
    "        X: 観測データ\n",
    "    Returns:\n",
    "        K: 因果関係の順番の一次元配列\n",
    "        B: 因果関係を表す下三角行列\n",
    "    Example:\n",
    "        K:[0,2,1]\n",
    "        B:[[0,0,0],\n",
    "           [1,0,0],\n",
    "           [2,3,0]]\n",
    "        だったら、入力された X は 0 => 2 => 1 という因果関係があって、その関係は\n",
    "        行列 B のようになっているということ  \n",
    "    \"\"\"\n",
    "    n = X.shape[0]\n",
    "    B_buffer = np.zeros((n, n))\n",
    "    K = []    \n",
    "    X = {i:X[i] for i in range(len(X))}\n",
    "    \n",
    "    while (len(X) > 0):\n",
    "        k = find_most_independent_variable(X, processes)\n",
    "        K.append(k)\n",
    "        for i in X.keys():\n",
    "            if i != k:\n",
    "                # k => i への因果効果\n",
    "                B_buffer[i][k] = calc_causal_effect(X[k], X[i])\n",
    "        X = {i:calc_residual(X[k], X[i]) for i in X.keys() if i != k}\n",
    "\n",
    "    # B_buffer を 下三角行列に並び替える\n",
    "    B = np.zeros((n , n))\n",
    "    for i in range(n):\n",
    "        for j in range(n):\n",
    "            if j < i:\n",
    "                B[i][j] = B_buffer[K[i]][K[j]]\n",
    "\n",
    "    return (K, B)"
   ]
  },
  {
   "cell_type": "code",
   "execution_count": 339,
   "metadata": {
    "autoscroll": "json-false",
    "collapsed": false,
    "ein.tags": [
     "worksheet-0"
    ]
   },
   "outputs": [
    {
     "data": {
      "text/plain": [
       "([0, 2, 1], array([[   0.        ,    0.        ,    0.        ],\n        [   0.94236569,    0.        ,    0.        ],\n        [   8.51721272, -130.42946976,    0.        ]]))"
      ]
     },
     "execution_count": 339,
     "metadata": {},
     "output_type": "execute_result"
    }
   ],
   "source": [
    "x = np.random.laplace(size=500)\n",
    "y = np.random.laplace(size=500) + x\n",
    "z = np.random.laplace(size=500) + x + 8 * y\n",
    "test_data = np.array([x, z, y])\n",
    "DirectLiNGAM(test_data)"
   ]
  },
  {
   "cell_type": "code",
   "execution_count": 340,
   "metadata": {
    "autoscroll": "json-false",
    "collapsed": false,
    "ein.tags": [
     "worksheet-0"
    ]
   },
   "outputs": [
    {
     "data": {
      "text/plain": [
       "[1, 3, 2, 0, 4]"
      ]
     },
     "execution_count": 340,
     "metadata": {},
     "output_type": "execute_result"
    }
   ],
   "source": [
    "p = 5\n",
    "n = 500\n",
    "B = generate_adjacency_matrix((p, p))\n",
    "e = generate_laplace_disturbance((p, n))\n",
    "test_data = generate_observed_data(B, e)\n",
    "test_data = permuteta_order(test_data)\n",
    "test_data[1]"
   ]
  },
  {
   "cell_type": "code",
   "execution_count": 342,
   "metadata": {
    "autoscroll": "json-false",
    "collapsed": false,
    "ein.tags": [
     "worksheet-0"
    ]
   },
   "outputs": [
    {
     "data": {
      "text/plain": [
       "[1, 3, 2, 0, 4]"
      ]
     },
     "execution_count": 342,
     "metadata": {},
     "output_type": "execute_result"
    }
   ],
   "source": [
    "test_data[1]"
   ]
  },
  {
   "cell_type": "code",
   "execution_count": 341,
   "metadata": {
    "autoscroll": "json-false",
    "collapsed": false,
    "ein.tags": [
     "worksheet-0"
    ]
   },
   "outputs": [
    {
     "data": {
      "text/plain": [
       "([2, 1, 3, 0, 4], array([[  0.00000000e+00,   0.00000000e+00,   0.00000000e+00,\n           0.00000000e+00,   0.00000000e+00],\n        [  9.52756900e-01,   0.00000000e+00,   0.00000000e+00,\n           0.00000000e+00,   0.00000000e+00],\n        [ -1.15892221e-02,   2.14124226e+01,   0.00000000e+00,\n           0.00000000e+00,   0.00000000e+00],\n        [ -6.98977763e-02,   2.26466463e+01,   1.06046434e+00,\n           0.00000000e+00,   0.00000000e+00],\n        [  2.03073113e-01,   1.68686408e+01,   7.77401153e-01,\n          -3.68148958e+00,   0.00000000e+00]]))"
      ]
     },
     "execution_count": 341,
     "metadata": {},
     "output_type": "execute_result"
    },
    {
     "name": "stdout",
     "output_type": "stream",
     "text": [
      "CPU times: user 1min 14s, sys: 120 ms, total: 1min 14s\n",
      "Wall time: 1min 14s\n"
     ]
    }
   ],
   "source": [
    "%time DirectLiNGAM(test_data[0])"
   ]
  }
 ],
 "metadata": {},
 "nbformat": 4,
 "nbformat_minor": 0
}
